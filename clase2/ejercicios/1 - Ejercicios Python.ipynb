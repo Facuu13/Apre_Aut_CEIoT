{
 "cells": [
  {
   "cell_type": "markdown",
   "metadata": {},
   "source": [
    "# Ejercicios de Python\n",
    "Aprendizaje Automático - Facundo A. Lucianna – CEIoT – FIUBA\n",
    "\n",
    "A continuación veamos ejercicios de Python que deben resolver.\n",
    "\n",
    "**Ejercicio 1**: Imprima el texto `”Hola, estoy aprendiendo Python”`. Agregue un comentario de una sola línea antes de la impresión de texto que explique qué hace la función `print()`."
   ]
  },
  {
   "cell_type": "code",
   "execution_count": 1,
   "metadata": {},
   "outputs": [
    {
     "name": "stdout",
     "output_type": "stream",
     "text": [
      "Hola, estoy aprendiendo python\n"
     ]
    }
   ],
   "source": [
    "print(\"Hola, estoy aprendiendo python\")"
   ]
  },
  {
   "cell_type": "markdown",
   "metadata": {},
   "source": [
    "**Ejercicio 2**: Imprima el siguiente texto respetando el formato (use triple \"\"\"):\n",
    "\n",
    "```\n",
    "Sobre el puente de Avignon\n",
    "      Todos bailan, todos bailan\n",
    "Sobre el puente de Avignon\n",
    "      Todos bailan y yo también\n",
    "```"
   ]
  },
  {
   "cell_type": "code",
   "execution_count": 1,
   "metadata": {},
   "outputs": [
    {
     "name": "stdout",
     "output_type": "stream",
     "text": [
      "\n",
      "Sobre el puente de Avignon\n",
      "    Todos bailan, todos bailan\n",
      "Sobre el puente de Avignon\n",
      "    Todos bailan y yo tambien\n",
      "\n"
     ]
    }
   ],
   "source": [
    "avignon_song = \"\"\"\n",
    "Sobre el puente de Avignon\n",
    "    Todos bailan, todos bailan\n",
    "Sobre el puente de Avignon\n",
    "    Todos bailan y yo tambien\n",
    "\"\"\"\n",
    "\n",
    "print(avignon_song)"
   ]
  },
  {
   "cell_type": "markdown",
   "metadata": {},
   "source": [
    "**Ejercicio 3**: Crea las siguiente variables:\n",
    "\n",
    "```\n",
    "var1 = 1\n",
    "var2 = 3.14\n",
    "var3 = −8\n",
    "var4 = \"CEIoT\"\n",
    "```\n",
    "\n",
    "1. Realice las siguientes operaciones e imprímalas. Comente en la notebook qué operaciones se hace en cada caso:\n",
    "    1. `var1 + var2`\n",
    "    2. `var1 − var2`\n",
    "    3. `var3 / 3`\n",
    "    4. `var3 // 3`\n",
    "    5. `var3 % 3`\n",
    "    6. `var2 ** 2`\n",
    "    7. `var3 ∗ var2`\n",
    "    8. `var4 + var4`\n",
    "    9. `var4 * ((-1) * var3)`\n",
    "    10. `var4 / var2`\n",
    "2. ¿Todas las operaciones aquí listadas pueden realizar? Si la respuesta es no, cual no se puede realizar? ¿Qué error da Python? ¿Qué significa ese error?"
   ]
  },
  {
   "cell_type": "code",
   "execution_count": 4,
   "metadata": {},
   "outputs": [
    {
     "name": "stdout",
     "output_type": "stream",
     "text": [
      "4.140000000000001\n",
      "-2.14\n",
      "-2.6666666666666665\n",
      "-3\n",
      "1\n",
      "9.8596\n",
      "-25.12\n",
      "CEIoTCEIoT\n",
      "CEIoTCEIoTCEIoTCEIoTCEIoTCEIoTCEIoTCEIoT\n"
     ]
    },
    {
     "ename": "TypeError",
     "evalue": "unsupported operand type(s) for /: 'str' and 'float'",
     "output_type": "error",
     "traceback": [
      "\u001b[0;31m---------------------------------------------------------------------------\u001b[0m",
      "\u001b[0;31mTypeError\u001b[0m                                 Traceback (most recent call last)",
      "\u001b[0;32m/tmp/ipykernel_41443/2924647938.py\u001b[0m in \u001b[0;36m<module>\u001b[0;34m\u001b[0m\n\u001b[1;32m     13\u001b[0m \u001b[0mprint\u001b[0m\u001b[0;34m(\u001b[0m\u001b[0mvar4\u001b[0m\u001b[0;34m+\u001b[0m\u001b[0mvar4\u001b[0m\u001b[0;34m)\u001b[0m\u001b[0;34m\u001b[0m\u001b[0;34m\u001b[0m\u001b[0m\n\u001b[1;32m     14\u001b[0m \u001b[0mprint\u001b[0m\u001b[0;34m(\u001b[0m\u001b[0mvar4\u001b[0m\u001b[0;34m*\u001b[0m\u001b[0;34m(\u001b[0m\u001b[0;34m(\u001b[0m\u001b[0;34m-\u001b[0m\u001b[0;36m1\u001b[0m\u001b[0;34m)\u001b[0m\u001b[0;34m*\u001b[0m\u001b[0mvar3\u001b[0m\u001b[0;34m)\u001b[0m\u001b[0;34m)\u001b[0m\u001b[0;34m\u001b[0m\u001b[0;34m\u001b[0m\u001b[0m\n\u001b[0;32m---> 15\u001b[0;31m \u001b[0mprint\u001b[0m\u001b[0;34m(\u001b[0m\u001b[0mvar4\u001b[0m\u001b[0;34m/\u001b[0m\u001b[0mvar2\u001b[0m\u001b[0;34m)\u001b[0m\u001b[0;34m\u001b[0m\u001b[0;34m\u001b[0m\u001b[0m\n\u001b[0m",
      "\u001b[0;31mTypeError\u001b[0m: unsupported operand type(s) for /: 'str' and 'float'"
     ]
    }
   ],
   "source": [
    "var1 = 1\n",
    "var2 = 3.14\n",
    "var3 = -8\n",
    "var4 = \"CEIoT\"\n",
    "\n",
    "print(var1+var2)\n",
    "print(var1-var2)\n",
    "print(var3/3)\n",
    "print(var3 // 3)\n",
    "print(var3 % 3)\n",
    "print(var2 ** 2)\n",
    "print(var3 * var2)\n",
    "print(var4+var4)\n",
    "print(var4*((-1)*var3))\n",
    "print(var4/var2)"
   ]
  },
  {
   "cell_type": "markdown",
   "metadata": {},
   "source": [
    "**Ejercicio 4**: Cree la variable `pi_string = \"3.1415926\"`\n",
    "1.  Conviertala en `float` (use la función `float()`) y guarda el resultado en la variable `pi_float`.\n",
    "2.  Imprima la variable `pi_float` con solo 3 decimales"
   ]
  },
  {
   "cell_type": "code",
   "execution_count": 5,
   "metadata": {},
   "outputs": [
    {
     "name": "stdout",
     "output_type": "stream",
     "text": [
      "3.142\n"
     ]
    }
   ],
   "source": [
    "pi_string = \"3.1415926\"\n",
    "pi_float= float(pi_string)\n",
    "print(round(pi_float,3))"
   ]
  },
  {
   "cell_type": "markdown",
   "metadata": {},
   "source": [
    "**Ejercicio 5**: Crea una variable con el string: `\"Me gusta la comida mexicana\"`.\n",
    "1. Crea una variable que se llame `mexican_food` que sea booleana.\n",
    "2. Mediante control de flujo, imprima condicionalmente la variable string si la variable del apartado 1 es verdadera."
   ]
  },
  {
   "cell_type": "code",
   "execution_count": 6,
   "metadata": {},
   "outputs": [
    {
     "name": "stdout",
     "output_type": "stream",
     "text": [
      "Me gusta la comida mexicana\n"
     ]
    }
   ],
   "source": [
    "s = \"Me gusta la comida mexicana\"\n",
    "mexican_food = True\n",
    "if mexican_food:\n",
    "    print(s)"
   ]
  },
  {
   "cell_type": "markdown",
   "metadata": {},
   "source": [
    "**Ejercicio 6**: Imprima la fecha y hora actual (utilice la librería [datetime](https://www.w3schools.com/python/python_datetime.asp))"
   ]
  },
  {
   "cell_type": "code",
   "execution_count": 20,
   "metadata": {},
   "outputs": [
    {
     "name": "stdout",
     "output_type": "stream",
     "text": [
      "2024-06-26 18:47:56.290037\n"
     ]
    }
   ],
   "source": [
    "import datetime\n",
    "\n",
    "print(datetime.datetime.now())"
   ]
  },
  {
   "cell_type": "markdown",
   "metadata": {},
   "source": [
    "**Ejercicio 7**: Imprima el calendario del mes de Marzo de 2023 (utilice la librería [calendar](https://www.geeksforgeeks.org/python-calendar-module/))"
   ]
  },
  {
   "cell_type": "code",
   "execution_count": 24,
   "metadata": {},
   "outputs": [
    {
     "name": "stdout",
     "output_type": "stream",
     "text": [
      "[[datetime.date(2023, 2, 27), datetime.date(2023, 2, 28), datetime.date(2023, 3, 1), datetime.date(2023, 3, 2), datetime.date(2023, 3, 3), datetime.date(2023, 3, 4), datetime.date(2023, 3, 5)], [datetime.date(2023, 3, 6), datetime.date(2023, 3, 7), datetime.date(2023, 3, 8), datetime.date(2023, 3, 9), datetime.date(2023, 3, 10), datetime.date(2023, 3, 11), datetime.date(2023, 3, 12)], [datetime.date(2023, 3, 13), datetime.date(2023, 3, 14), datetime.date(2023, 3, 15), datetime.date(2023, 3, 16), datetime.date(2023, 3, 17), datetime.date(2023, 3, 18), datetime.date(2023, 3, 19)], [datetime.date(2023, 3, 20), datetime.date(2023, 3, 21), datetime.date(2023, 3, 22), datetime.date(2023, 3, 23), datetime.date(2023, 3, 24), datetime.date(2023, 3, 25), datetime.date(2023, 3, 26)], [datetime.date(2023, 3, 27), datetime.date(2023, 3, 28), datetime.date(2023, 3, 29), datetime.date(2023, 3, 30), datetime.date(2023, 3, 31), datetime.date(2023, 4, 1), datetime.date(2023, 4, 2)]]\n"
     ]
    }
   ],
   "source": [
    "import calendar\n",
    "t = calendar.TextCalendar()\n",
    "\n",
    "print(t.monthdatescalendar(2023,3))"
   ]
  },
  {
   "cell_type": "markdown",
   "metadata": {},
   "source": [
    "**Ejercicio 8**: Usando Python resuelva este ejercicio:\n",
    "```\n",
    "Supongamos que tenemos U$D 100, el cual se puede invertir y retornar el 10% extra cada año. Es decir, después del primer año tendríamos 100 * 1.1 = 110, luego de dos años 100 * 1.1 * 1.1 = 121.\n",
    "\n",
    "Calcule la cantidad de plata que uno tendría luego de 7 años, y después de 23 años.\n",
    "```"
   ]
  },
  {
   "cell_type": "code",
   "execution_count": 31,
   "metadata": {},
   "outputs": [
    {
     "name": "stdout",
     "output_type": "stream",
     "text": [
      "Luego de 7 años:  194.87171000000012\n",
      "Luego de 23 años:  895.430243255239\n"
     ]
    }
   ],
   "source": [
    "print(\"Luego de 7 años: \", 100*(1.1**7))\n",
    "print(\"Luego de 23 años: \", 100*(1.1**23))"
   ]
  },
  {
   "cell_type": "markdown",
   "metadata": {},
   "source": [
    "**Ejercicio 9**: Introduzca el código del punto anterior en una función. Que los argumentos sean la inversión inicial, el interés y la cantidad de años. Obtenga diferentes salidas combinando estas variables."
   ]
  },
  {
   "cell_type": "code",
   "execution_count": 39,
   "metadata": {},
   "outputs": [
    {
     "name": "stdout",
     "output_type": "stream",
     "text": [
      "Inversion inicial de 100, con un interes de 1.1, \n",
      "        despues de tantos 7 años: 194.87171000000012\n"
     ]
    }
   ],
   "source": [
    "def calculo_interes(inv,interes,anios):\n",
    "    print(f'''Inversion inicial de {inv}, con un interes de {interes}, \n",
    "        despues de tantos {anios} años: {(inv*(interes**anios))}''')\n",
    "    \n",
    "calculo_interes(100,1.1,7)"
   ]
  },
  {
   "cell_type": "markdown",
   "metadata": {},
   "source": [
    "**Ejercicio 10**: Escriba una función que teste si un número está entre 100 y 2000."
   ]
  },
  {
   "cell_type": "code",
   "execution_count": 44,
   "metadata": {},
   "outputs": [
    {
     "name": "stdout",
     "output_type": "stream",
     "text": [
      "El numero esta dentro del rango\n"
     ]
    }
   ],
   "source": [
    "def entre(x):\n",
    "    if x>= 100 and x<=2000:\n",
    "        print(\"El numero esta dentro del rango\")\n",
    "    else: \n",
    "        print(\"El numero esta fuera del rango\")\n",
    "\n",
    "entre(500)"
   ]
  },
  {
   "cell_type": "markdown",
   "metadata": {},
   "source": [
    "**Ejercicio 11**: Escriba una función que verifique si dado un número natural, si es capicúa (por ejemplo 12321 o 90809)."
   ]
  },
  {
   "cell_type": "code",
   "execution_count": 46,
   "metadata": {},
   "outputs": [
    {
     "name": "stdout",
     "output_type": "stream",
     "text": [
      "True\n",
      "True\n",
      "False\n"
     ]
    }
   ],
   "source": [
    "def es_capicua(numero):\n",
    "    # Convertir el número a cadena\n",
    "    numero_str = str(numero)\n",
    "    # Verificar si la cadena es igual a su reverso\n",
    "    return numero_str == numero_str[::-1]\n",
    "\n",
    "print(es_capicua(12321))  # Debería imprimir True\n",
    "print(es_capicua(90809))  # Debería imprimir True\n",
    "print(es_capicua(12345))  # Debería imprimir False"
   ]
  },
  {
   "cell_type": "markdown",
   "metadata": {},
   "source": [
    "**Ejercicio 12**: \n",
    "1. Escriba una función que dado un string reemplaza todos los caracteres con `\"*\"` menos los últimos 5 caracteres.\n",
    "2. Modifique la función para que un argumento opcional se pueda cambiar cuantos caracteres se quieren dejar sin `\"*\"`."
   ]
  },
  {
   "cell_type": "code",
   "execution_count": 48,
   "metadata": {},
   "outputs": [
    {
     "name": "stdout",
     "output_type": "stream",
     "text": [
      "*****mundo\n",
      "*ython\n",
      "*ola\n",
      "**la\n"
     ]
    }
   ],
   "source": [
    "def reemplazar_con_asteriscos(cadena, caracteres_sin_reemplazar=5):\n",
    "    # Verificar si la cadena tiene más caracteres que los que se quieren dejar sin reemplazar\n",
    "    if len(cadena) > caracteres_sin_reemplazar:\n",
    "        # Reemplazar todos los caracteres menos los últimos `caracteres_sin_reemplazar`\n",
    "        return '*' * (len(cadena) - caracteres_sin_reemplazar) + cadena[-caracteres_sin_reemplazar:]\n",
    "    else:\n",
    "        # Si la cadena tiene igual o menos caracteres que los que se quieren dejar sin reemplazar, no reemplazar nada\n",
    "        return cadena\n",
    "\n",
    "print(reemplazar_con_asteriscos(\"Hola mundo\"))  # Debería imprimir \"*****mundo\" (por defecto deja 5 caracteres)\n",
    "print(reemplazar_con_asteriscos(\"Python\"))      # Debería imprimir \"*ython\" (por defecto deja 5 caracteres)\n",
    "print(reemplazar_con_asteriscos(\"Hola\", 3))     # Debería imprimir \"*ola\" (deja 3 caracteres)\n",
    "print(reemplazar_con_asteriscos(\"Hola\", 2))     # Debería imprimir \"**la\" (deja 2 caracteres)"
   ]
  },
  {
   "cell_type": "markdown",
   "metadata": {},
   "source": [
    "**Ejercicio 13**: \n",
    "1. Escriba una función que dado el radio (número flotante) como entrada devuelva el diámetro, circunferencia y área de un círculo.\n",
    "2. Agregue un argumento opcional dimensión que por defecto es 2, si es 3 retorna el diámetro y el volumen de una esfera. Cualquier otro valor, retorne\n",
    "-1."
   ]
  },
  {
   "cell_type": "code",
   "execution_count": 56,
   "metadata": {},
   "outputs": [
    {
     "name": "stdout",
     "output_type": "stream",
     "text": [
      "-1\n"
     ]
    }
   ],
   "source": [
    "def cal_circuferencia(radio,cal=2):\n",
    "    if cal == 2:\n",
    "        print(\"El diametro del circulo es: \", radio*2)\n",
    "        print(\"El area del circulo es: \", 2*pi_float*radio)\n",
    "    elif cal == 3:\n",
    "        print(\"El diametro del circulo es: \", radio*2)\n",
    "        print(\"El volumen de la esfera es : \",((4/3)*pi_float*(radio**3)))\n",
    "    else:\n",
    "        print(-1)\n",
    "\n",
    "cal_circuferencia(5,4)"
   ]
  },
  {
   "cell_type": "markdown",
   "metadata": {},
   "source": [
    "**Ejercicio 14**: Genere una lista formada por los números naturales desde el 1 hasta el 9 incluidos llamada `mi_lista` usado list comprehension.\n",
    "1. Imprima el primer, el quinto y último elemento, y además la cantidad de elementos que tiene la lista.\n",
    "2. Cree una lista nueva que incluya solamente desde el segundo al sexto elemento.\n",
    "3. Quite el último elemento de la lista `mi_lista` y guárdelo en una variable llamada `ultimo_elemento`.\n",
    "4. Quite el tercer elemento de la lista `mi_lista`.\n",
    "5. Agregue el número 4 al final de `mi_lista`.\n",
    "6. Agregue el string `\"Soy un string\"` en la tercera posición de `mi_lista`."
   ]
  },
  {
   "cell_type": "code",
   "execution_count": 23,
   "metadata": {},
   "outputs": [
    {
     "name": "stdout",
     "output_type": "stream",
     "text": [
      "[1, 2, 3, 4, 5, 6, 7, 8, 9]\n",
      "primer elemento de la lista: 1, el quinto elemento es 5 y el ultimo es 9\n",
      "cantidad de elementos de la lista:  9\n",
      "[2, 3, 4, 5, 6]\n",
      "ultimo elemento 9\n",
      "nueva lista [1, 2, 'soy un string', 4, 5, 6, 7, 8, 4]\n"
     ]
    },
    {
     "data": {
      "text/plain": [
       "'soy un string'"
      ]
     },
     "execution_count": 23,
     "metadata": {},
     "output_type": "execute_result"
    }
   ],
   "source": [
    "mi_lista = [x for x in range(1,10)]\n",
    "print(mi_lista)\n",
    "print(f\"primer elemento de la lista: {mi_lista[0]}, el quinto elemento es {mi_lista[4]} y el ultimo es {mi_lista[-1]}\")\n",
    "print(\"cantidad de elementos de la lista: \", len(mi_lista))\n",
    "nueva_lista = mi_lista[1:6] #guardamos del 2 al 6 elemento\n",
    "print (nueva_lista)\n",
    "ultimo_elemento = mi_lista[-1]\n",
    "mi_lista.pop()#elimina el ultimo elemento\n",
    "print(\"ultimo elemento\", ultimo_elemento)\n",
    "mi_lista.pop(2) #eliminamos el 3er elemento de la lista\n",
    "mi_lista.append(4) #agregamos el num 4 al final de la lista\n",
    "mi_lista.insert(2,\"soy un string\")\n",
    "print(\"nueva lista\", mi_lista)\n",
    "mi_lista.pop(2)"
   ]
  },
  {
   "cell_type": "markdown",
   "metadata": {},
   "source": [
    "**Ejercicio 15**: Escriba una función que devuelva una tupla de todos los números impares dado un valor de inicio y final. Siendo el de inicio opcional, con valor por defecto igual a 1."
   ]
  },
  {
   "cell_type": "code",
   "execution_count": 16,
   "metadata": {},
   "outputs": [
    {
     "name": "stdout",
     "output_type": "stream",
     "text": [
      "(1, 3, 5, 7, 9)\n",
      "(3, 5, 7, 9)\n"
     ]
    }
   ],
   "source": [
    "def obtener_impares(final, inicio=1):\n",
    "    # Generar una lista de números impares en el rango especificado\n",
    "    impares = [x for x in range(inicio, final + 1) if x % 2 != 0]\n",
    "    # Convertir la lista a tupla y devolverla\n",
    "    return tuple(impares)\n",
    "\n",
    "print(obtener_impares(10))          # Debería imprimir (1, 3, 5, 7, 9)\n",
    "print(obtener_impares(10, 3))       # Debería imprimir (3, 5, 7, 9)"
   ]
  },
  {
   "cell_type": "markdown",
   "metadata": {},
   "source": [
    "**Ejercicio 16**: Escriba una función que realice la suma de dos vectores. Para \"armar\" a los vectores vamos a usar listas de igual tamaño. La función debe devolver el vector suma en forma de lista."
   ]
  },
  {
   "cell_type": "code",
   "execution_count": 17,
   "metadata": {},
   "outputs": [
    {
     "name": "stdout",
     "output_type": "stream",
     "text": [
      "[5, 7, 9]\n",
      "[8, 10, 12]\n"
     ]
    }
   ],
   "source": [
    "def suma_vectores(vector1, vector2):\n",
    "    # Verificar que los vectores tienen el mismo tamaño\n",
    "    if len(vector1) != len(vector2):\n",
    "        raise ValueError(\"Los vectores deben tener el mismo tamaño\")\n",
    "    \n",
    "    # Sumar los elementos correspondientes de ambos vectores\n",
    "    vector_suma = [v1 + v2 for v1, v2 in zip(vector1, vector2)]\n",
    "    \n",
    "    # Devolver el vector suma\n",
    "    return vector_suma\n",
    "\n",
    "# Ejemplos de uso\n",
    "vector_a = [1, 2, 3]\n",
    "vector_b = [4, 5, 6]\n",
    "\n",
    "print(suma_vectores(vector_a, vector_b))  # Debería imprimir [5, 7, 9]\n",
    "\n",
    "vector_c = [7, 8, 9]\n",
    "vector_d = [1, 2, 3]\n",
    "\n",
    "print(suma_vectores(vector_c, vector_d))  # Debería imprimir [8, 10, 12]\n"
   ]
  },
  {
   "cell_type": "markdown",
   "metadata": {},
   "source": [
    "**Ejercicio 17**: Cree un diccionario llamado datos_personales con los siguientes datos:\n",
    "```\n",
    "nombre: Pedro\n",
    "apellido: Perez\n",
    "edad: 43\n",
    "```\n",
    "\n",
    "1. Imprima el apellido.\n",
    "2. Cambie el valor de la edad a 24.\n",
    "3. Agregue dos elementos:\n",
    "```\n",
    "    tipo de sangre: A\n",
    "    dirección: Av. Colón 1132.\n",
    "```\n",
    "4. Elimine el elemento tipo de sangre.\n",
    "5. Imprima todo el diccionario."
   ]
  },
  {
   "cell_type": "code",
   "execution_count": 15,
   "metadata": {},
   "outputs": [
    {
     "name": "stdout",
     "output_type": "stream",
     "text": [
      "Perez\n",
      "{'nombre': 'Pedro', 'apellido': 'Perez', 'edad': 24}\n",
      "{'nombre': 'Pedro', 'apellido': 'Perez', 'edad': 24, 'tipo de sangre': 'A', 'direccion': 'Av. Colon 1132'}\n",
      "{'nombre': 'Pedro', 'apellido': 'Perez', 'edad': 24, 'direccion': 'Av. Colon 1132'}\n"
     ]
    }
   ],
   "source": [
    "datos_personales = {'nombre': 'Pedro', 'apellido': 'Perez', 'edad':43}\n",
    "print(datos_personales['apellido']) #muestro el apellido\n",
    "datos_personales['edad'] = 24\n",
    "print(datos_personales)\n",
    "datos_personales['tipo de sangre'] = 'A'\n",
    "datos_personales['direccion'] = 'Av. Colon 1132'\n",
    "print(datos_personales)\n",
    "del(datos_personales['tipo de sangre'])\n",
    "print(datos_personales)"
   ]
  },
  {
   "cell_type": "markdown",
   "metadata": {},
   "source": [
    "**Ejercicio 18**: Cree un programa que usando while sume los números del 1 a 1000. Al final imprima la suma."
   ]
  },
  {
   "cell_type": "code",
   "execution_count": 20,
   "metadata": {},
   "outputs": [
    {
     "name": "stdout",
     "output_type": "stream",
     "text": [
      "500500\n"
     ]
    }
   ],
   "source": [
    "contador = 0\n",
    "x = 0\n",
    "while x <= 1000:\n",
    "    contador +=x\n",
    "    x += 1\n",
    "\n",
    "print(contador)"
   ]
  },
  {
   "cell_type": "markdown",
   "metadata": {},
   "source": [
    "**Ejercicio 19**: Usando for:\n",
    "1. Imprima todos los elementos de la lista `mi_lista` del ejercicio 14.\n",
    "2. Genere una nueva lista que sea los valores al cuadrado de todos los elementos de `mi_lista` que sean numéricos."
   ]
  },
  {
   "cell_type": "code",
   "execution_count": 28,
   "metadata": {},
   "outputs": [
    {
     "name": "stdout",
     "output_type": "stream",
     "text": [
      "1\n",
      "2\n",
      "4\n",
      "5\n",
      "6\n",
      "7\n",
      "8\n",
      "4\n",
      "[1, 4, 16, 25, 36, 49, 64, 16]\n"
     ]
    }
   ],
   "source": [
    "lista2 =[]\n",
    "for i in mi_lista:\n",
    "    print(i)\n",
    "    lista2.append(i**2)\n",
    "\n",
    "print(lista2)"
   ]
  },
  {
   "cell_type": "markdown",
   "metadata": {},
   "source": [
    "**Ejercicio 20**: Calcule los primeros 30 números primos"
   ]
  },
  {
   "cell_type": "code",
   "execution_count": null,
   "metadata": {},
   "outputs": [],
   "source": []
  },
  {
   "cell_type": "markdown",
   "metadata": {},
   "source": [
    "**Ejercicio 21**: Escriba una función que construya el patrón que tenga como argumento de entrada el maximo numero de asterisco de la punta (valor minimo igual a 2):\n",
    "\n",
    "```\n",
    "*\n",
    "**\n",
    "***\n",
    "****\n",
    "*****\n",
    "****\n",
    "***\n",
    "**\n",
    "*\n",
    "```"
   ]
  },
  {
   "cell_type": "code",
   "execution_count": null,
   "metadata": {},
   "outputs": [],
   "source": []
  },
  {
   "cell_type": "markdown",
   "metadata": {},
   "source": [
    "**Ejercicio 22**: El matemático aleman Gottfried Leibniz desarrolló un método para aproximar el valor de π:\n",
    "\n",
    "$$ \\pi = 4 \\sum_{n=0}^{\\infty} \\frac{(-1)^n}{2n + 1} $$\n",
    "\n",
    "Escriba una función que mediante un argumento especifique el número de iteraciones usadas para aproximarse usando esta serie e imprima en pantalla el valor resultante."
   ]
  },
  {
   "cell_type": "code",
   "execution_count": null,
   "metadata": {},
   "outputs": [],
   "source": []
  },
  {
   "cell_type": "markdown",
   "metadata": {},
   "source": [
    "**Ejercicio 25**: Escriba un script para crear una función **lambda** que sume 15 a un número dado pasado como argumento, también cree una función **lambda** que multiplique el argumento x con el argumento y e imprima el resultado."
   ]
  },
  {
   "cell_type": "code",
   "execution_count": null,
   "metadata": {},
   "outputs": [],
   "source": []
  },
  {
   "cell_type": "markdown",
   "metadata": {},
   "source": [
    "**Ejercicio 26**: Un sistema de administración de perros de una veterinaria permite cargar datos del perro:\n",
    "```\n",
    "Nombre del perro\n",
    "Nombre completo del dueño\n",
    "Peso\n",
    "Raza\n",
    "```\n",
    "\n",
    "Defina una clase llamada `Dog` que se inicie con todos los atributos vacíos y que con diferentes métodos se puedan completar la información y mostrar la información."
   ]
  },
  {
   "cell_type": "code",
   "execution_count": 32,
   "metadata": {},
   "outputs": [
    {
     "name": "stdout",
     "output_type": "stream",
     "text": [
      "El nombre del perro es:  Terry\n",
      "El dueño se llama:  Fabricio Villa\n",
      "El perro pesa: 30 Kg y es de raza Pastor Aleman\n"
     ]
    }
   ],
   "source": [
    "class Dog():\n",
    "    def __init__(self):\n",
    "        self.perro=''\n",
    "        self.duenio=''\n",
    "        self.peso=None\n",
    "        self.raza=''\n",
    "        \n",
    "    \n",
    "    def nombre_perro(self,perro):\n",
    "        self.perro = perro\n",
    "    \n",
    "    def nombre_duenio(self,duenio):\n",
    "        self.duenio=duenio\n",
    "    \n",
    "    def poner_peso(self,peso):\n",
    "        self.peso = peso\n",
    "    \n",
    "    def poner_raza(self,raza):\n",
    "        self.raza = raza\n",
    "    \n",
    "    def informacion(self):\n",
    "        print(\"El nombre del perro es: \", self.perro)\n",
    "        print(\"El dueño se llama: \", self.duenio)\n",
    "        print(f\"El perro pesa: {self.peso} Kg y es de raza {self.raza}\")\n",
    "\n",
    "perrito = Dog()\n",
    "perrito.nombre_perro('Terry')\n",
    "perrito.nombre_duenio('Fabricio Villa')\n",
    "perrito.poner_peso(30)\n",
    "perrito.poner_raza('Pastor Aleman')\n",
    "perrito.informacion()\n",
    "    \n",
    "    "
   ]
  }
 ],
 "metadata": {
  "kernelspec": {
   "display_name": "Python 3",
   "language": "python",
   "name": "python3"
  },
  "language_info": {
   "codemirror_mode": {
    "name": "ipython",
    "version": 3
   },
   "file_extension": ".py",
   "mimetype": "text/x-python",
   "name": "python",
   "nbconvert_exporter": "python",
   "pygments_lexer": "ipython3",
   "version": "3.10.12"
  }
 },
 "nbformat": 4,
 "nbformat_minor": 4
}
