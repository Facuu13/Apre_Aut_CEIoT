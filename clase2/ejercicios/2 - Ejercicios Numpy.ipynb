{
 "cells": [
  {
   "cell_type": "markdown",
   "metadata": {
    "id": "e_9yLYRpF9BA"
   },
   "source": [
    "# Ejercicios de Numpy\n",
    "Aprendizaje Automático - Facundo A. Lucianna – CEIoT – FIUBA\n",
    "\n",
    "A continuación veamos ejercicios de Numpy que deben resolver.\n",
    "\n",
    "Ejercicio 1: Importa a Numpy como np"
   ]
  },
  {
   "cell_type": "code",
   "execution_count": 2,
   "metadata": {
    "id": "sUTE41LjF8ie"
   },
   "outputs": [],
   "source": [
    "import numpy as np"
   ]
  },
  {
   "cell_type": "markdown",
   "metadata": {
    "id": "t1MtiumJGYhy"
   },
   "source": [
    "Ejercicio 2: Crea un array de la siguiente lista"
   ]
  },
  {
   "cell_type": "code",
   "execution_count": 3,
   "metadata": {
    "id": "gSc9alByGXzb"
   },
   "outputs": [
    {
     "name": "stdout",
     "output_type": "stream",
     "text": [
      "[1 2 3 4 5]\n"
     ]
    }
   ],
   "source": [
    "lista = [1, 2, 3, 4, 5]\n",
    "a = np.array(lista)\n",
    "print(a)"
   ]
  },
  {
   "cell_type": "markdown",
   "metadata": {
    "id": "f9802oagF8LB"
   },
   "source": [
    "Ejercicio 3: Suma los siguientes dos arrays"
   ]
  },
  {
   "cell_type": "code",
   "execution_count": 5,
   "metadata": {
    "id": "_RV5GqltF5hG"
   },
   "outputs": [],
   "source": [
    "a = np.array([[1,2,3],\n",
    "              [4,5,6]])\n",
    "\n",
    "b = np.array([[10,11,12],\n",
    "              [13,14,15]])"
   ]
  },
  {
   "cell_type": "code",
   "execution_count": 7,
   "metadata": {
    "id": "7SyyK7CkGWzk"
   },
   "outputs": [
    {
     "name": "stdout",
     "output_type": "stream",
     "text": [
      "[[11 13 15]\n",
      " [17 19 21]]\n"
     ]
    }
   ],
   "source": [
    "print(a+b)"
   ]
  },
  {
   "cell_type": "markdown",
   "metadata": {
    "id": "JMJJmKfuGhen"
   },
   "source": [
    "Ejercicio 4: Multiplica por 3.2 al siguiente array (una matriz)"
   ]
  },
  {
   "cell_type": "code",
   "execution_count": 4,
   "metadata": {
    "id": "dfS84I4FGhLK"
   },
   "outputs": [],
   "source": [
    "a = np.array([[4,2,2],\n",
    "              [4,1,0]])"
   ]
  },
  {
   "cell_type": "code",
   "execution_count": 5,
   "metadata": {},
   "outputs": [
    {
     "name": "stdout",
     "output_type": "stream",
     "text": [
      "[[12.8  6.4  6.4]\n",
      " [12.8  3.2  0. ]]\n"
     ]
    }
   ],
   "source": [
    "print(a*3.2)"
   ]
  },
  {
   "cell_type": "markdown",
   "metadata": {
    "id": "aqee7RrwGyx8"
   },
   "source": [
    "Ejercicio 5: Convierta en una matriz cuadrada al siguiente array unidimensional.\n",
    "\n",
    "1. Usando shape fijate que dimension tiene el array\n",
    "2. Usando .reshape() convierta al array en una matriz cuadrada\n"
   ]
  },
  {
   "cell_type": "code",
   "execution_count": 8,
   "metadata": {
    "id": "o3kCaNBOHHTX"
   },
   "outputs": [],
   "source": [
    "a = np.array([x for x in range(9)])"
   ]
  },
  {
   "cell_type": "code",
   "execution_count": 18,
   "metadata": {},
   "outputs": [
    {
     "name": "stdout",
     "output_type": "stream",
     "text": [
      "(9,)\n"
     ]
    },
    {
     "data": {
      "text/plain": [
       "array([[0, 1, 2],\n",
       "       [3, 4, 5],\n",
       "       [6, 7, 8]])"
      ]
     },
     "execution_count": 18,
     "metadata": {},
     "output_type": "execute_result"
    }
   ],
   "source": [
    "print(a.shape)\n",
    "a.reshape([3, -1])\n"
   ]
  },
  {
   "cell_type": "markdown",
   "metadata": {
    "id": "DrapZG0NInQv"
   },
   "source": [
    "Ejercicio 6: Convierta el tipo del siguiente array en entero (int)"
   ]
  },
  {
   "cell_type": "code",
   "execution_count": 24,
   "metadata": {
    "id": "CK9wJUZTIlIR"
   },
   "outputs": [],
   "source": [
    "a = np.array([[2.5, 3.8, 1.5],\n",
    "              [4.7, 2.9, 1.56]])"
   ]
  },
  {
   "cell_type": "code",
   "execution_count": 25,
   "metadata": {
    "id": "dELQaeATI1e4"
   },
   "outputs": [
    {
     "data": {
      "text/plain": [
       "dtype('int64')"
      ]
     },
     "execution_count": 25,
     "metadata": {},
     "output_type": "execute_result"
    }
   ],
   "source": [
    "aa = a.astype(int) # Tambien puedo convertir de tipo\n",
    "aa.dtype"
   ]
  },
  {
   "cell_type": "markdown",
   "metadata": {
    "id": "PT87pa6iIy7-"
   },
   "source": [
    "Ejercicio 7: Crea una matriz de identidad de orden 5 (usando np.eye) y luego transforma el tipo en booleano (bool)"
   ]
  },
  {
   "cell_type": "code",
   "execution_count": 28,
   "metadata": {
    "id": "3Twi1VJ9IyZW"
   },
   "outputs": [
    {
     "data": {
      "text/plain": [
       "array([[ True, False, False, False, False],\n",
       "       [False,  True, False, False, False],\n",
       "       [False, False,  True, False, False],\n",
       "       [False, False, False,  True, False],\n",
       "       [False, False, False, False,  True]])"
      ]
     },
     "execution_count": 28,
     "metadata": {},
     "output_type": "execute_result"
    }
   ],
   "source": [
    "identidad = np.eye(5)\n",
    "identidad2 = identidad.astype(bool)\n",
    "identidad2"
   ]
  },
  {
   "cell_type": "markdown",
   "metadata": {
    "id": "F6pxK5t9JF5v"
   },
   "source": [
    "Ejercicio 8: Cocatena de forma horizontal (una al costado de la otra) los siguientes arrays"
   ]
  },
  {
   "cell_type": "code",
   "execution_count": 29,
   "metadata": {
    "id": "1v1Bx830JFrc"
   },
   "outputs": [],
   "source": [
    "a1 = np.array([[1,2,3],\n",
    "               [4,5,6]])\n",
    "\n",
    "a2 = np.array([[7,8,9],\n",
    "               [10,11,12]])"
   ]
  },
  {
   "cell_type": "code",
   "execution_count": 34,
   "metadata": {
    "id": "n9rFcZBoJcP2"
   },
   "outputs": [
    {
     "data": {
      "text/plain": [
       "array([[ 1,  2,  3,  7,  8,  9],\n",
       "       [ 4,  5,  6, 10, 11, 12]])"
      ]
     },
     "execution_count": 34,
     "metadata": {},
     "output_type": "execute_result"
    }
   ],
   "source": [
    "np.concatenate([a1,a2], axis=1)#Concatenamos en direccion de las columnas"
   ]
  },
  {
   "cell_type": "markdown",
   "metadata": {
    "id": "cYAcl2ICJQok"
   },
   "source": [
    "Ejercicio 9: Cocatena de forma vertical los mismos array"
   ]
  },
  {
   "cell_type": "code",
   "execution_count": 35,
   "metadata": {
    "id": "XQjHizMeJZbi"
   },
   "outputs": [
    {
     "data": {
      "text/plain": [
       "array([[ 1,  2,  3],\n",
       "       [ 4,  5,  6],\n",
       "       [ 7,  8,  9],\n",
       "       [10, 11, 12]])"
      ]
     },
     "execution_count": 35,
     "metadata": {},
     "output_type": "execute_result"
    }
   ],
   "source": [
    "np.concatenate([a1,a2], axis=0)#Concatenamos en direccion de las filas"
   ]
  },
  {
   "cell_type": "markdown",
   "metadata": {
    "id": "JC2aj9LPJc4P"
   },
   "source": [
    "Ejercicio 9: Crea un array unidimensional que tenga los numeros de 0 a 100 (incluido) con saltos de 2."
   ]
  },
  {
   "cell_type": "code",
   "execution_count": 37,
   "metadata": {
    "id": "-WnpmxL6JoR0"
   },
   "outputs": [
    {
     "name": "stdout",
     "output_type": "stream",
     "text": [
      "[  0   2   4   6   8  10  12  14  16  18  20  22  24  26  28  30  32  34\n",
      "  36  38  40  42  44  46  48  50  52  54  56  58  60  62  64  66  68  70\n",
      "  72  74  76  78  80  82  84  86  88  90  92  94  96  98 100]\n"
     ]
    }
   ],
   "source": [
    "rango_valores = np.arange(0, 101, 2)\n",
    "print(rango_valores)"
   ]
  },
  {
   "cell_type": "markdown",
   "metadata": {
    "id": "iK_xk2yEJo_n"
   },
   "source": [
    "Ejercicio 10: Usando np.where() compara en que elementos el array **a** es mayor al array **b**"
   ]
  },
  {
   "cell_type": "code",
   "execution_count": 39,
   "metadata": {
    "id": "c8BRhng_Jpeo"
   },
   "outputs": [],
   "source": [
    "a = np.array([1,2,3,4,6])\n",
    "\n",
    "b = np.array([1,3,2,4,5])"
   ]
  },
  {
   "cell_type": "code",
   "execution_count": 48,
   "metadata": {
    "id": "0sniSYGIJ6Aj"
   },
   "outputs": [
    {
     "data": {
      "text/plain": [
       "(array([2, 4]),)"
      ]
     },
     "execution_count": 48,
     "metadata": {},
     "output_type": "execute_result"
    }
   ],
   "source": [
    "result=np.where(a>b) # me devuelve los indices\n",
    "result"
   ]
  },
  {
   "cell_type": "markdown",
   "metadata": {
    "id": "4jcNe8u1J7SY"
   },
   "source": [
    "Ejercicio 11: Genera en un array una secuencia separada de forma equidistante de 5 numeros que van de 0 a 100 (inclusive ambos)"
   ]
  },
  {
   "cell_type": "code",
   "execution_count": 49,
   "metadata": {
    "id": "yhfr6KKqKIL1"
   },
   "outputs": [
    {
     "name": "stdout",
     "output_type": "stream",
     "text": [
      "Secuencia de números: [  0.  25.  50.  75. 100.]\n"
     ]
    }
   ],
   "source": [
    "secuencia = np.linspace(0, 100, 5)\n",
    "print(\"Secuencia de números:\", secuencia)"
   ]
  },
  {
   "cell_type": "markdown",
   "metadata": {
    "id": "sP6tN0hpKH4g"
   },
   "source": [
    "Ejercicio 12: Crea una matriz de 2x3 con todos los valores igual a 23 (Hint: podes usar [np.full](https://numpy.org/doc/stable/reference/generated/numpy.full.html) o [np.eye](https://numpy.org/devdocs/reference/generated/numpy.eye.html))\n"
   ]
  },
  {
   "cell_type": "code",
   "execution_count": 52,
   "metadata": {
    "id": "3-7aVWoMKWDI"
   },
   "outputs": [
    {
     "name": "stdout",
     "output_type": "stream",
     "text": [
      "[[23 23 23]\n",
      " [23 23 23]]\n"
     ]
    }
   ],
   "source": [
    "matrix = np.full((2, 3), 23)\n",
    "print(matrix)"
   ]
  },
  {
   "cell_type": "markdown",
   "metadata": {
    "id": "jTA6GgK6KWxJ"
   },
   "source": [
    "Ejercicio 13: Crea un array de 8x2 numeros aleatorios que sigan la distribucion normal (Hint: [np.random.normal](https://numpy.org/doc/stable/reference/random/generated/numpy.random.normal.html))"
   ]
  },
  {
   "cell_type": "code",
   "execution_count": 54,
   "metadata": {
    "id": "NrBM7CLoKixi"
   },
   "outputs": [
    {
     "name": "stdout",
     "output_type": "stream",
     "text": [
      "[[0.0610592  0.34428091]\n",
      " [0.30490837 0.03926595]\n",
      " [0.91908879 0.44456978]\n",
      " [0.6767692  0.40729003]\n",
      " [0.954412   0.89738   ]\n",
      " [0.68338844 0.90046898]\n",
      " [0.85822595 0.48697831]\n",
      " [0.36421084 0.89738008]]\n"
     ]
    }
   ],
   "source": [
    "aleatorio = np.random.rand(8, 2)\n",
    "print(aleatorio)"
   ]
  },
  {
   "cell_type": "markdown",
   "metadata": {
    "id": "b99SuyreKjtb"
   },
   "source": [
    "Ejercicio 14: Dadas las siguientes matrices, multipliquelas como matrices. Luego multipliquelas como si fueran arrays"
   ]
  },
  {
   "cell_type": "code",
   "execution_count": 55,
   "metadata": {
    "id": "YKuJiQ4nKocj"
   },
   "outputs": [],
   "source": [
    "a = np.array([[1,2,3],\n",
    "              [4,5,6],\n",
    "              [7,8,9]])\n",
    "\n",
    "b = np.array([[2,3,4],\n",
    "              [5,6,7],\n",
    "              [8,9,10]])"
   ]
  },
  {
   "cell_type": "code",
   "execution_count": 63,
   "metadata": {
    "id": "NtcDBE9kKqRC"
   },
   "outputs": [
    {
     "name": "stdout",
     "output_type": "stream",
     "text": [
      "[[ 2  6 12]\n",
      " [20 30 42]\n",
      " [56 72 90]]\n",
      "-------------------------\n",
      "[[ 36  42  48]\n",
      " [ 81  96 111]\n",
      " [126 150 174]]\n",
      "-------------------------\n",
      "[[ 42  51  60]\n",
      " [ 78  96 114]\n",
      " [114 141 168]]\n"
     ]
    }
   ],
   "source": [
    "print(a*b)\n",
    "print(\"-------------------------\")\n",
    "r1=np.matmul(a,b)\n",
    "r2=np.matmul(b,a)\n",
    "print(r1)\n",
    "print(\"-------------------------\")\n",
    "print(r2)"
   ]
  },
  {
   "cell_type": "markdown",
   "metadata": {
    "id": "ZES6IGHeK2TF"
   },
   "source": [
    "Ejercicio 15: Dado el siguiente array, ordenelo de forma ascendente (Hint: [np.argsort](https://numpy.org/doc/stable/reference/generated/numpy.argsort.html)). Luego de forma descendente."
   ]
  },
  {
   "cell_type": "code",
   "execution_count": 3,
   "metadata": {
    "id": "ndyTumC9KwJJ"
   },
   "outputs": [],
   "source": [
    "a = np.array([1, 0, 82, 2, 939, 91, 1101, 199, 292, 2, 923, 387, 38, 299])"
   ]
  },
  {
   "cell_type": "code",
   "execution_count": 6,
   "metadata": {
    "id": "HzK_z4riLnsd"
   },
   "outputs": [
    {
     "name": "stdout",
     "output_type": "stream",
     "text": [
      "[   0    1    2    2   38   82   91  199  292  299  387  923  939 1101]\n"
     ]
    }
   ],
   "source": [
    "print(np.sort(a))"
   ]
  },
  {
   "cell_type": "code",
   "execution_count": 7,
   "metadata": {
    "id": "uZyq05uULoRf"
   },
   "outputs": [
    {
     "name": "stdout",
     "output_type": "stream",
     "text": [
      "[1101  939  923  387  299  292  199   91   82   38    2    2    1    0]\n"
     ]
    }
   ],
   "source": [
    "print(np.sort(a)[::-1])"
   ]
  },
  {
   "cell_type": "markdown",
   "metadata": {
    "id": "PwVvydF6SCqQ"
   },
   "source": [
    "----"
   ]
  },
  {
   "cell_type": "markdown",
   "metadata": {
    "id": "Zbf2yCCYLokv"
   },
   "source": [
    "Ejercicio 16: Lee el csv venta_libros en un array. Luego separa las columnas en 3 arrays diferentes, el primero llamado year, el segundo month, y el tercero books"
   ]
  },
  {
   "cell_type": "code",
   "execution_count": 3,
   "metadata": {
    "id": "HGpomf8RNmD9"
   },
   "outputs": [
    {
     "name": "stdout",
     "output_type": "stream",
     "text": [
      "Año: [2019. 2019. 2019. 2019. 2019. 2019. 2019. 2019. 2019. 2019. 2019. 2020.\n",
      " 2020. 2020. 2020. 2020. 2020. 2020. 2020. 2020. 2020. 2020. 2020. 2021.\n",
      " 2021. 2021. 2021. 2021. 2021. 2021. 2021. 2021. 2021. 2021. 2021. 2022.\n",
      " 2022. 2022. 2022. 2022. 2022. 2022. 2022. 2022. 2022. 2022. 2022.]\n",
      "Mes: [ 2.  3.  4.  5.  6.  7.  8.  9. 10. 11. 12.  1.  2.  3.  4.  5.  6.  7.\n",
      "  8.  9. 10. 11. 12.  1.  2.  3.  4.  5.  6.  7.  8.  9. 10. 11. 12.  1.\n",
      "  2.  3.  4.  5.  6.  7.  8.  9. 10. 11. 12.]\n",
      "Libros: [400. 339. 389. 141. 332. 386. 307. 304. 167. 133. 151. 276.  57. 125.\n",
      "  27. 222. 363.  26. 162. 383. 383. 179. 386. 432. 482. 202. 115. 420.\n",
      "  87.  36. 489. 440.  83. 258. 281. 393. 227. 236. 453. 359. 252.  57.\n",
      " 473. 331. 349. 212. 131.]\n"
     ]
    }
   ],
   "source": [
    "# Lee el archivo CSV en un array\n",
    "data = np.genfromtxt('./datasets/venta_libros.csv', delimiter=',', skip_header=1)\n",
    "\n",
    "# Separar las columnas en 3 arrays diferentes\n",
    "year = data[:, 0]\n",
    "month = data[:, 1]\n",
    "books = data[:, 2]\n",
    "\n",
    "print(\"Año:\", year)\n",
    "print(\"Mes:\", month)\n",
    "print(\"Libros:\", books)"
   ]
  },
  {
   "cell_type": "markdown",
   "metadata": {
    "id": "a5JHu4CbNpCK"
   },
   "source": [
    "Usando np.max() obtenga el valor de ventas de libros más alto. Luego, busque a que mes y años corresponde"
   ]
  },
  {
   "cell_type": "code",
   "execution_count": 4,
   "metadata": {
    "id": "WkQ5CFe5N417"
   },
   "outputs": [
    {
     "name": "stdout",
     "output_type": "stream",
     "text": [
      "El valor máximo de ventas de libros es: 489.0\n",
      "Corresponde al año: 2021 y al mes: 8\n"
     ]
    }
   ],
   "source": [
    "# Obtener el valor máximo de ventas de libros\n",
    "max_books = np.max(books)\n",
    "\n",
    "# Buscar el índice del valor máximo de ventas\n",
    "max_index = np.where(books == max_books)[0][0]\n",
    "\n",
    "# Obtener el año y mes correspondiente al valor máximo de ventas\n",
    "max_year = year[max_index]\n",
    "max_month = month[max_index]\n",
    "\n",
    "print(\"El valor máximo de ventas de libros es:\", max_books)\n",
    "print(\"Corresponde al año:\", int(max_year), \"y al mes:\", int(max_month))"
   ]
  },
  {
   "cell_type": "markdown",
   "metadata": {
    "id": "0d1ViVGTRVAD"
   },
   "source": [
    "Calcula las ventas totales, las ventas promedio, la mediana de las ventas y el desvio estandar (Hint: [np.sum](https://numpy.org/doc/stable/reference/generated/numpy.sum.html), [np.mean](https://numpy.org/doc/stable/reference/generated/numpy.mean.html), [np.median](https://numpy.org/doc/stable/reference/generated/numpy.median.html), [np.std](https://numpy.org/doc/stable/reference/generated/numpy.std.html))"
   ]
  },
  {
   "cell_type": "code",
   "execution_count": 5,
   "metadata": {
    "id": "UpqqRc5zRRZr"
   },
   "outputs": [
    {
     "name": "stdout",
     "output_type": "stream",
     "text": [
      "Ventas totales: 12436.0\n",
      "Promedio de ventas: 264.59574468085106\n",
      "Mediana de las ventas: 276.0\n",
      "Desvío estándar de las ventas: 136.14223781788837\n"
     ]
    }
   ],
   "source": [
    "# Calcular las ventas totales\n",
    "total_sales = np.sum(books)\n",
    "\n",
    "# Calcular el promedio de ventas\n",
    "average_sales = np.mean(books)\n",
    "\n",
    "# Calcular la mediana de las ventas\n",
    "median_sales = np.median(books)\n",
    "\n",
    "# Calcular el desvío estándar de las ventas\n",
    "std_deviation_sales = np.std(books)\n",
    "\n",
    "print(\"Ventas totales:\", total_sales)\n",
    "print(\"Promedio de ventas:\", average_sales)\n",
    "print(\"Mediana de las ventas:\", median_sales)\n",
    "print(\"Desvío estándar de las ventas:\", std_deviation_sales)"
   ]
  },
  {
   "cell_type": "code",
   "execution_count": null,
   "metadata": {
    "id": "IO65VuSoN5yp"
   },
   "outputs": [],
   "source": []
  }
 ],
 "metadata": {
  "colab": {
   "authorship_tag": "ABX9TyOy12cJEqDJrsnQOoRjNNSW",
   "provenance": []
  },
  "kernelspec": {
   "display_name": "Python 3 (ipykernel)",
   "language": "python",
   "name": "python3"
  },
  "language_info": {
   "codemirror_mode": {
    "name": "ipython",
    "version": 3
   },
   "file_extension": ".py",
   "mimetype": "text/x-python",
   "name": "python",
   "nbconvert_exporter": "python",
   "pygments_lexer": "ipython3",
   "version": "3.10.12"
  }
 },
 "nbformat": 4,
 "nbformat_minor": 4
}
